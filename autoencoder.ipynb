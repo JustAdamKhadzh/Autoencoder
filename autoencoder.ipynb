{
 "cells": [
  {
   "cell_type": "code",
   "execution_count": 2,
   "metadata": {},
   "outputs": [],
   "source": [
    "import torch\n",
    "import torch.nn as nn\n",
    "import torchvision.transforms as transforms\n",
    "import torchvision.datasets as datasets\n",
    "import numpy as np\n",
    "import matplotlib.pyplot as plt\n",
    "%matplotlib inline"
   ]
  },
  {
   "cell_type": "code",
   "execution_count": 3,
   "metadata": {},
   "outputs": [],
   "source": [
    "train = datasets.MNIST(root='', train=True, download=True, transform=transforms.ToTensor())\n",
    "test = datasets.MNIST(root='', train=False, download=False, transform=transforms.ToTensor())"
   ]
  },
  {
   "cell_type": "code",
   "execution_count": 4,
   "metadata": {},
   "outputs": [],
   "source": [
    "from torch.utils.data import DataLoader"
   ]
  },
  {
   "cell_type": "code",
   "execution_count": 14,
   "metadata": {},
   "outputs": [],
   "source": [
    "trainloader = DataLoader(dataset = train,batch_size=128,shuffle=True)\n",
    "testloader = DataLoader(dataset = test, batch_size = 8, shuffle=False)"
   ]
  },
  {
   "cell_type": "code",
   "execution_count": 6,
   "metadata": {},
   "outputs": [],
   "source": [
    "class Autoencoder(nn.Module):\n",
    "    def __init__(self, in_features = 784, out_features = 784, encoded_size=32):\n",
    "        super(Autoencoder, self).__init__()\n",
    "        self.autoencoder = nn.Sequential(nn.Linear(in_features,encoded_size),\n",
    "                                        nn.ReLU(),\n",
    "                                        nn.Linear(encoded_size, out_features), \n",
    "                                        nn.Sigmoid())\n",
    "    def forward(self, x):\n",
    "        x = self.autoencoder(x)\n",
    "        return x \n",
    "    "
   ]
  },
  {
   "cell_type": "code",
   "execution_count": 7,
   "metadata": {},
   "outputs": [],
   "source": [
    "autoencoder = Autoencoder(encoded_size=50)\n",
    "criterion = nn.BCELoss()\n",
    "opt = torch.optim.Adam(params=autoencoder.parameters(), lr=1e-3)"
   ]
  },
  {
   "cell_type": "code",
   "execution_count": 29,
   "metadata": {},
   "outputs": [],
   "source": [
    "def plot_images(images, reconstuctions):\n",
    "    n_images = images.size(0)\n",
    "    images = images.reshape(-1, 28, 28).numpy()\n",
    "    reconstructions = reconstuctions.reshape(-1,28,28).numpy()\n",
    "    fig = plt.figure(figsize=(16,6))\n",
    "    for ind, img in enumerate(images):\n",
    "        ax = plt.subplot(2,n_images, ind + 1)\n",
    "        plt.imshow(img)\n",
    "        ax.get_xaxis().set_visible(False)\n",
    "        ax.get_yaxis().set_visible(False)\n",
    "        ax = plt.subplot(2, n_images, ind + 1 + n_images)\n",
    "        plt.imshow(reconstructions[ind])\n",
    "        ax.get_xaxis().set_visible(False)\n",
    "        ax.get_yaxis().set_visible(False)\n",
    "        plt.gray()"
   ]
  },
  {
   "cell_type": "code",
   "execution_count": 9,
   "metadata": {},
   "outputs": [
    {
     "name": "stdout",
     "output_type": "stream",
     "text": [
      "[Epoch = 0, loss = 106.81849610805511]\n",
      "[Epoch = 2, loss = 54.58923161774874]\n",
      "[Epoch = 4, loss = 44.66473942250013]\n",
      "[Epoch = 6, loss = 41.976204350590706]\n",
      "[Epoch = 8, loss = 41.30817914009094]\n",
      "[Epoch = 10, loss = 40.75266368687153]\n",
      "[Epoch = 12, loss = 40.478652350604534]\n",
      "[Epoch = 14, loss = 40.3668919429183]\n",
      "[Epoch = 16, loss = 40.29981476068497]\n",
      "[Epoch = 18, loss = 40.24421225488186]\n",
      "[Epoch = 20, loss = 40.212217047810555]\n",
      "[Epoch = 22, loss = 40.16798271983862]\n",
      "[Epoch = 24, loss = 40.1499744579196]\n",
      "[Epoch = 26, loss = 40.134889997541904]\n",
      "[Epoch = 28, loss = 40.114577285945415]\n",
      "[Epoch = 30, loss = 40.100449316203594]\n",
      "[Epoch = 32, loss = 40.08228172361851]\n",
      "[Epoch = 34, loss = 40.07507286965847]\n",
      "[Epoch = 36, loss = 40.05714362114668]\n",
      "[Epoch = 38, loss = 40.05575621128082]\n",
      "[Epoch = 40, loss = 40.04875814169645]\n",
      "[Epoch = 42, loss = 40.038051545619965]\n",
      "[Epoch = 44, loss = 40.0282084941864]\n",
      "[Epoch = 46, loss = 40.02368701994419]\n",
      "[Epoch = 48, loss = 40.01650056242943]\n"
     ]
    }
   ],
   "source": [
    "num_epochs = 50\n",
    "for epoch in range(num_epochs):\n",
    "    epoch_loss = 0\n",
    "    for batch_i, (x_batch, y_batch) in enumerate(trainloader):\n",
    "        x_batch = x_batch.reshape(-1, 784)\n",
    "        output = autoencoder(x_batch)\n",
    "        opt.zero_grad()\n",
    "        loss = criterion(output, x_batch)\n",
    "        epoch_loss += loss.item()\n",
    "        loss.backward()\n",
    "        opt.step()\n",
    "    \n",
    "    if epoch % 2 == 0:\n",
    "        print('[Epoch = {}, loss = {}]'.format(epoch, epoch_loss))\n",
    "        \n",
    "    \n",
    "    "
   ]
  },
  {
   "cell_type": "code",
   "execution_count": 17,
   "metadata": {},
   "outputs": [],
   "source": [
    "iterator = iter(testloader)"
   ]
  },
  {
   "cell_type": "code",
   "execution_count": 31,
   "metadata": {},
   "outputs": [
    {
     "data": {
      "image/png": "[encoded data removed]",
      "text/plain": [
       "<Figure size 1152x432 with 16 Axes>"
      ]
     },
     "metadata": {},
     "output_type": "display_data"
    }
   ],
   "source": [
    "x_batch, y_batch = next(iterator)\n",
    "x_batch = x_batch.reshape(-1, 784)\n",
    "reconstruction = autoencoder(x_batch)\n",
    "plot_images(x_batch, reconstruction.detach())"
   ]
  },
  {
   "cell_type": "code",
   "execution_count": null,
   "metadata": {},
   "outputs": [],
   "source": []
  },
  {
   "cell_type": "code",
   "execution_count": 18,
   "metadata": {},
   "outputs": [],
   "source": []
  },
  {
   "cell_type": "code",
   "execution_count": null,
   "metadata": {},
   "outputs": [],
   "source": []
  },
  {
   "cell_type": "code",
   "execution_count": null,
   "metadata": {},
   "outputs": [],
   "source": []
  }
 ],
 "metadata": {
  "kernelspec": {
   "display_name": "Python 3",
   "language": "python",
   "name": "python3"
  },
  "language_info": {
   "codemirror_mode": {
    "name": "ipython",
    "version": 3
   },
   "file_extension": ".py",
   "mimetype": "text/x-python",
   "name": "python",
   "nbconvert_exporter": "python",
   "pygments_lexer": "ipython3",
   "version": "3.6.5"
  }
 },
 "nbformat": 4,
 "nbformat_minor": 2
}
